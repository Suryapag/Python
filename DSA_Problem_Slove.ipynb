{
 "cells": [
  {
   "cell_type": "code",
   "execution_count": 33,
   "metadata": {},
   "outputs": [
    {
     "name": "stdout",
     "output_type": "stream",
     "text": [
      "0\n"
     ]
    }
   ],
   "source": [
    "# Replacing '00' with 'A' and '11' with 'G'\n",
    "a=1100\n",
    "a=str(a)\n",
    "encoded_sequence = a.replace('00', 'A').replace('11', 'G')\n",
    "print(encoded_sequence)"
   ]
  },
  {
   "cell_type": "code",
   "execution_count": 4,
   "metadata": {},
   "outputs": [
    {
     "name": "stdout",
     "output_type": "stream",
     "text": [
      "AGBC\n",
      "AGBC\n",
      "AGBC\n",
      "AGBC\n"
     ]
    }
   ],
   "source": [
    "a=4\n",
    "for x in range(a):\n",
    "    s=8\n",
    "    p=int(s/2)\n",
    "    d='00111001'\n",
    "    v=''\n",
    "    i=0\n",
    "    for x in range(p):\n",
    "        if d[i]=='0':\n",
    "            if d[i+1]=='0':\n",
    "                v=(v+'A')\n",
    "            elif d[i+1]=='1':\n",
    "                v=(v+\"C\")\n",
    "        elif d[i]=='1':\n",
    "            if d[i+1]=='0':\n",
    "                v=(v+'B')\n",
    "            elif d[i+1]=='1':\n",
    "                v=(v+\"G\")\n",
    "        i=i+2        \n",
    "    print(v)"
   ]
  },
  {
   "cell_type": "code",
   "execution_count": 52,
   "metadata": {},
   "outputs": [
    {
     "name": "stdout",
     "output_type": "stream",
     "text": [
      "2\n"
     ]
    }
   ],
   "source": [
    "nums=[1,1,2]\n",
    "i = 1\n",
    "for r in range(1, len(nums)):\n",
    "    if nums[r] != nums[r-1]:\n",
    "        nums[i] = nums[r]\n",
    "        i += 1\n",
    "print(i)"
   ]
  },
  {
   "cell_type": "code",
   "execution_count": 28,
   "metadata": {},
   "outputs": [
    {
     "name": "stdout",
     "output_type": "stream",
     "text": [
      "[4, 6, 7]\n"
     ]
    }
   ],
   "source": [
    "k=[4,5,6,7]\n",
    "k.pop(1)\n",
    "print(k)"
   ]
  },
  {
   "cell_type": "code",
   "execution_count": 56,
   "metadata": {},
   "outputs": [
    {
     "name": "stdout",
     "output_type": "stream",
     "text": [
      "4\n"
     ]
    }
   ],
   "source": [
    "arr = [3, 1, 1, 2, 5]\n",
    "max_value = max(arr)\n",
    "max_index = arr.index(max_value)\n",
    "print(max_index)"
   ]
  },
  {
   "cell_type": "code",
   "execution_count": 3,
   "metadata": {},
   "outputs": [
    {
     "name": "stdout",
     "output_type": "stream",
     "text": [
      "[1, 2, 3]\n"
     ]
    }
   ],
   "source": [
    "nums=[3,2,1]\n",
    "if nums[2]>nums[1]:\n",
    "    nums[2], nums[1] = nums[1], nums[2]\n",
    "elif nums[1]>nums[0]:\n",
    "    nums[1], nums[0] = nums[0], nums[1]\n",
    "else:\n",
    "    nums[2], nums[1], nums[0]= nums[0], nums[1], nums[2]\n",
    "print(nums)\n"
   ]
  },
  {
   "cell_type": "code",
   "execution_count": 9,
   "metadata": {},
   "outputs": [
    {
     "name": "stdout",
     "output_type": "stream",
     "text": [
      "[2, 4, 7, 5, 1, 3]\n"
     ]
    }
   ],
   "source": [
    "nums = [2,5,1,3,4,7]\n",
    "n = 3\n",
    "# Since x1=2, x2=5, x3=1, y1=3, y2=4, y3=7 then the answer is [2,3,5,4,1,7]\n",
    "for i in range(1, n):\n",
    "        # Swap the elements directly to interleave\n",
    "        for j in range(n + i - 1, i - 1, -1):\n",
    "            nums[j], nums[j + 1] = nums[j + 1], nums[j]\n",
    "print(nums)"
   ]
  }
 ],
 "metadata": {
  "kernelspec": {
   "display_name": "Python 3",
   "language": "python",
   "name": "python3"
  },
  "language_info": {
   "codemirror_mode": {
    "name": "ipython",
    "version": 3
   },
   "file_extension": ".py",
   "mimetype": "text/x-python",
   "name": "python",
   "nbconvert_exporter": "python",
   "pygments_lexer": "ipython3",
   "version": "3.11.9"
  }
 },
 "nbformat": 4,
 "nbformat_minor": 2
}
