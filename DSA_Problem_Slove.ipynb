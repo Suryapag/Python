{
 "cells": [
  {
   "cell_type": "code",
   "execution_count": 33,
   "metadata": {},
   "outputs": [
    {
     "name": "stdout",
     "output_type": "stream",
     "text": [
      "0\n"
     ]
    }
   ],
   "source": [
    "# Replacing '00' with 'A' and '11' with 'G'\n",
    "a=1100\n",
    "a=str(a)\n",
    "encoded_sequence = a.replace('00', 'A').replace('11', 'G')\n",
    "print(encoded_sequence)"
   ]
  },
  {
   "cell_type": "code",
   "execution_count": 4,
   "metadata": {},
   "outputs": [
    {
     "name": "stdout",
     "output_type": "stream",
     "text": [
      "AGBC\n",
      "AGBC\n",
      "AGBC\n",
      "AGBC\n"
     ]
    }
   ],
   "source": [
    "a=4\n",
    "for x in range(a):\n",
    "    s=8\n",
    "    p=int(s/2)\n",
    "    d='00111001'\n",
    "    v=''\n",
    "    i=0\n",
    "    for x in range(p):\n",
    "        if d[i]=='0':\n",
    "            if d[i+1]=='0':\n",
    "                v=(v+'A')\n",
    "            elif d[i+1]=='1':\n",
    "                v=(v+\"C\")\n",
    "        elif d[i]=='1':\n",
    "            if d[i+1]=='0':\n",
    "                v=(v+'B')\n",
    "            elif d[i+1]=='1':\n",
    "                v=(v+\"G\")\n",
    "        i=i+2        \n",
    "    print(v)"
   ]
  },
  {
   "cell_type": "code",
   "execution_count": 52,
   "metadata": {},
   "outputs": [
    {
     "name": "stdout",
     "output_type": "stream",
     "text": [
      "2\n"
     ]
    }
   ],
   "source": [
    "nums=[1,1,2]\n",
    "i = 1\n",
    "for r in range(1, len(nums)):\n",
    "    if nums[r] != nums[r-1]:\n",
    "        nums[i] = nums[r]\n",
    "        i += 1\n",
    "print(i)"
   ]
  },
  {
   "cell_type": "code",
   "execution_count": 28,
   "metadata": {},
   "outputs": [
    {
     "name": "stdout",
     "output_type": "stream",
     "text": [
      "[4, 6, 7]\n"
     ]
    }
   ],
   "source": [
    "k=[4,5,6,7]\n",
    "k.pop(1)\n",
    "print(k)"
   ]
  },
  {
   "cell_type": "code",
   "execution_count": 56,
   "metadata": {},
   "outputs": [
    {
     "name": "stdout",
     "output_type": "stream",
     "text": [
      "4\n"
     ]
    }
   ],
   "source": [
    "arr = [3, 1, 1, 2, 5]\n",
    "max_value = max(arr)\n",
    "max_index = arr.index(max_value)\n",
    "print(max_index)"
   ]
  },
  {
   "cell_type": "code",
   "execution_count": 3,
   "metadata": {},
   "outputs": [
    {
     "name": "stdout",
     "output_type": "stream",
     "text": [
      "[1, 2, 3]\n"
     ]
    }
   ],
   "source": [
    "nums=[3,2,1]\n",
    "if nums[2]>nums[1]:\n",
    "    nums[2], nums[1] = nums[1], nums[2]\n",
    "elif nums[1]>nums[0]:\n",
    "    nums[1], nums[0] = nums[0], nums[1]\n",
    "else:\n",
    "    nums[2], nums[1], nums[0]= nums[0], nums[1], nums[2]\n",
    "print(nums)\n"
   ]
  },
  {
   "cell_type": "code",
   "execution_count": 22,
   "metadata": {},
   "outputs": [
    {
     "name": "stdout",
     "output_type": "stream",
     "text": [
      "[2, 3, 5, 4, 1, 7]\n",
      "2\n"
     ]
    }
   ],
   "source": [
    "nums = [2,5,1,3,4,7]\n",
    "n = 3\n",
    "result = [0] * (2 * n)\n",
    "for i in range(n):\n",
    "    result[2 * i] = nums[i]\n",
    "    result[2 * i + 1] = nums[i + n]\n",
    "for i in range(2 * n):\n",
    "  nums[i] = result[i]\n",
    "print(nums)\n",
    "print(nums.index(5))"
   ]
  },
  {
   "cell_type": "code",
   "execution_count": 24,
   "metadata": {},
   "outputs": [],
   "source": [
    "q=[1,2,3]\n",
    "s=4\n",
    "if s in q:\n",
    "    print(\"dd\")"
   ]
  },
  {
   "cell_type": "code",
   "execution_count": 41,
   "metadata": {},
   "outputs": [
    {
     "name": "stdout",
     "output_type": "stream",
     "text": [
      "4\n",
      "5\n",
      "1\n"
     ]
    }
   ],
   "source": [
    "digits = [4,5,1]\n",
    "num =0\n",
    "for x in digits:\n",
    "    print(num.append(x))"
   ]
  },
  {
   "cell_type": "code",
   "execution_count": 71,
   "metadata": {},
   "outputs": [
    {
     "ename": "TypeError",
     "evalue": "unsupported operand type(s) for %: 'list' and 'int'",
     "output_type": "error",
     "traceback": [
      "\u001b[1;31m---------------------------------------------------------------------------\u001b[0m",
      "\u001b[1;31mTypeError\u001b[0m                                 Traceback (most recent call last)",
      "Cell \u001b[1;32mIn[71], line 8\u001b[0m\n\u001b[0;32m      6\u001b[0m nums\u001b[38;5;241m.\u001b[39mclear()\n\u001b[0;32m      7\u001b[0m \u001b[38;5;28;01mwhile\u001b[39;00m s \u001b[38;5;241m>\u001b[39m \u001b[38;5;241m0\u001b[39m:\n\u001b[1;32m----> 8\u001b[0m     nums\u001b[38;5;241m.\u001b[39mappend(\u001b[43mnums\u001b[49m\u001b[43m \u001b[49m\u001b[38;5;241;43m%\u001b[39;49m\u001b[43m \u001b[49m\u001b[38;5;241;43m10\u001b[39;49m)  \u001b[38;5;66;03m# Extract each digit\u001b[39;00m\n\u001b[0;32m      9\u001b[0m     s \u001b[38;5;241m/\u001b[39m\u001b[38;5;241m/\u001b[39m\u001b[38;5;241m=\u001b[39m \u001b[38;5;241m10\u001b[39m                 \u001b[38;5;66;03m# Remove the last digit\u001b[39;00m\n\u001b[0;32m     11\u001b[0m \u001b[38;5;66;03m# Reverse the list to get the digits in correct order\u001b[39;00m\n",
      "\u001b[1;31mTypeError\u001b[0m: unsupported operand type(s) for %: 'list' and 'int'"
     ]
    }
   ],
   "source": [
    "nums=[9,]\n",
    "s=0\n",
    "for x in nums:\n",
    "    s =s*10+x\n",
    "s=s+1\n",
    "nums.clear()\n",
    "while s > 0:\n",
    "    nums.append(nums % 10)  # Extract each digit\n",
    "    s //= 10                 # Remove the last digit\n",
    "\n",
    "# Reverse the list to get the digits in correct order\n",
    "nums.reverse()\n",
    "\n",
    "print(nums)"
   ]
  }
 ],
 "metadata": {
  "kernelspec": {
   "display_name": "Python 3",
   "language": "python",
   "name": "python3"
  },
  "language_info": {
   "codemirror_mode": {
    "name": "ipython",
    "version": 3
   },
   "file_extension": ".py",
   "mimetype": "text/x-python",
   "name": "python",
   "nbconvert_exporter": "python",
   "pygments_lexer": "ipython3",
   "version": "3.11.9"
  }
 },
 "nbformat": 4,
 "nbformat_minor": 2
}
