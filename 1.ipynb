{
 "cells": [
  {
   "cell_type": "code",
   "execution_count": 1,
   "metadata": {},
   "outputs": [],
   "source": [
    "#creating variables\n",
    "a=10\n",
    "b=15.5\n",
    "c='surya'\n",
    "#multipule variable assine a value\n",
    "d,f,y='small','class','phone'"
   ]
  },
  {
   "cell_type": "code",
   "execution_count": 2,
   "metadata": {},
   "outputs": [
    {
     "name": "stdout",
     "output_type": "stream",
     "text": [
      "<class 'float'> <class 'str'>\n"
     ]
    }
   ],
   "source": [
    "#geting data type\n",
    "print(type(b),type(c))"
   ]
  },
  {
   "cell_type": "code",
   "execution_count": 3,
   "metadata": {},
   "outputs": [
    {
     "name": "stdout",
     "output_type": "stream",
     "text": [
      "10.0\n",
      "<class 'float'>\n"
     ]
    }
   ],
   "source": [
    "#coverting datatype\n",
    "x=float(a)\n",
    "print(x)\n",
    "print(type(x))"
   ]
  },
  {
   "cell_type": "markdown",
   "metadata": {},
   "source": [
    "creating dictionaries in python"
   ]
  },
  {
   "cell_type": "code",
   "execution_count": 4,
   "metadata": {},
   "outputs": [
    {
     "name": "stdout",
     "output_type": "stream",
     "text": [
      "{'Name': 'surya', 'Roll No': '23mcab46', 'Mobile': 9000080000}\n",
      "surya\n",
      "3\n",
      "<class 'dict'>\n",
      "dict_keys(['Name', 'Roll No', 'Mobile'])\n",
      "dict_values(['surya', '23mcab46', 9000080000])\n",
      "{'Name': 'SURYA', 'Roll No': '23MCAB46', 'Mobile': 9000080000}\n"
     ]
    }
   ],
   "source": [
    "#creat dictionaries\n",
    "personal_info={\n",
    "    \"Name\":\"surya\",\n",
    "    \"Roll No\":\"23mcab46\",\n",
    "    \"Mobile\":9000080000\n",
    "}\n",
    "print(personal_info)\n",
    "#print perticular value\n",
    "print(personal_info[\"Name\"])\n",
    "#find the lenth\n",
    "print(len(personal_info))\n",
    "#find daata type\n",
    "print(type(personal_info))\n",
    "#get keys\n",
    "print(personal_info.keys())\n",
    "#print value\n",
    "print(personal_info.values())\n",
    "#update\n",
    "personal_info.update({\"Roll No\":\"23MCAB46\",\"Name\":\"SURYA\"})\n",
    "print(personal_info)"
   ]
  },
  {
   "cell_type": "markdown",
   "metadata": {},
   "source": [
    "Remove item"
   ]
  },
  {
   "cell_type": "code",
   "execution_count": 5,
   "metadata": {},
   "outputs": [
    {
     "name": "stdout",
     "output_type": "stream",
     "text": [
      "{'Name': 'SURYA', 'Roll No': '23MCAB46', 'Mobile': 9000080000}\n",
      "{'Roll No': '23MCAB46', 'Mobile': 9000080000}\n",
      "{'Roll No': '23MCAB46'}\n",
      "{}\n"
     ]
    }
   ],
   "source": [
    "#remove one item \n",
    "print(personal_info)\n",
    "personal_info.pop(\"Name\")\n",
    "print(personal_info)\n",
    "personal_info.pop(\"Mobile\")\n",
    "print(personal_info)\n",
    "personal_info.popitem()\n",
    "print(personal_info)"
   ]
  },
  {
   "cell_type": "code",
   "execution_count": 6,
   "metadata": {},
   "outputs": [
    {
     "name": "stdout",
     "output_type": "stream",
     "text": [
      "1\n",
      "5\n",
      "7\n",
      "11\n",
      "13\n",
      "17\n",
      "19\n"
     ]
    }
   ],
   "source": [
    "i=1\n",
    "while i <= 20:\n",
    "    if i % 2 != 0 and i % 3 != 0:\n",
    "        print(i)\n",
    "    i+=1"
   ]
  },
  {
   "cell_type": "code",
   "execution_count": 7,
   "metadata": {},
   "outputs": [
    {
     "name": "stdout",
     "output_type": "stream",
     "text": [
      "10\n",
      "12\n",
      "14\n",
      "16\n",
      "18\n",
      "20\n"
     ]
    }
   ],
   "source": [
    "i=10\n",
    "while i <= 20:\n",
    "    if i % 2 == 0:\n",
    "        print(i)\n",
    "    i+=1"
   ]
  },
  {
   "cell_type": "code",
   "execution_count": 8,
   "metadata": {},
   "outputs": [
    {
     "name": "stdout",
     "output_type": "stream",
     "text": [
      "2\n",
      "7\n",
      "12\n",
      "17\n",
      "22\n",
      "27\n"
     ]
    }
   ],
   "source": [
    "for x in range(2,30,5):\n",
    "    print(x)"
   ]
  },
  {
   "cell_type": "code",
   "execution_count": 9,
   "metadata": {},
   "outputs": [
    {
     "name": "stdout",
     "output_type": "stream",
     "text": [
      "the value of var surya\n"
     ]
    }
   ],
   "source": [
    "#global\n",
    "a='surya'\n",
    "def global_var():\n",
    "    print('the value of var',a)\n",
    "\n",
    "global_var()\n"
   ]
  },
  {
   "cell_type": "code",
   "execution_count": 11,
   "metadata": {},
   "outputs": [
    {
     "name": "stdout",
     "output_type": "stream",
     "text": [
      "the value of var surya\n"
     ]
    }
   ],
   "source": [
    "a='surya'\n",
    "def global_var():\n",
    "    print('the value of var',a)\n",
    "\n",
    "global_var()"
   ]
  },
  {
   "cell_type": "markdown",
   "metadata": {},
   "source": [
    "DECORATOR"
   ]
  },
  {
   "cell_type": "code",
   "execution_count": 12,
   "metadata": {},
   "outputs": [],
   "source": [
    "def doc_it(func):\n",
    "    def new_func(*args, **kwargs):\n",
    "        print(\"Runing function\", func.__name__)\n",
    "        print('positional argument: ',args)\n",
    "        print('key word Argument: ',kwargs)\n",
    "        result = func(*args, **kwargs)\n",
    "        print('Result', result)\n",
    "    return new_func        "
   ]
  },
  {
   "cell_type": "code",
   "execution_count": 1,
   "metadata": {},
   "outputs": [
    {
     "ename": "NameError",
     "evalue": "name 'doc_it' is not defined",
     "output_type": "error",
     "traceback": [
      "\u001b[1;31m---------------------------------------------------------------------------\u001b[0m",
      "\u001b[1;31mNameError\u001b[0m                                 Traceback (most recent call last)",
      "Cell \u001b[1;32mIn[1], line 1\u001b[0m\n\u001b[1;32m----> 1\u001b[0m \u001b[38;5;129m@doc_it\u001b[39m\n\u001b[0;32m      2\u001b[0m \u001b[38;5;28;01mdef\u001b[39;00m \u001b[38;5;21madd_ints\u001b[39m(a,b):\n\u001b[0;32m      3\u001b[0m     \u001b[38;5;28;01mreturn\u001b[39;00m a\u001b[38;5;241m+\u001b[39mb\n\u001b[0;32m      4\u001b[0m add_ints(\u001b[38;5;241m7\u001b[39m,\u001b[38;5;241m5\u001b[39m)\n",
      "\u001b[1;31mNameError\u001b[0m: name 'doc_it' is not defined"
     ]
    }
   ],
   "source": [
    "@doc_it\n",
    "def add_ints(a,b):\n",
    "    return a+b\n",
    "add_ints(7,5)"
   ]
  },
  {
   "cell_type": "code",
   "execution_count": 2,
   "metadata": {},
   "outputs": [],
   "source": [
    "text = \"\""
   ]
  }
 ],
 "metadata": {
  "kernelspec": {
   "display_name": "Python 3",
   "language": "python",
   "name": "python3"
  },
  "language_info": {
   "codemirror_mode": {
    "name": "ipython",
    "version": 3
   },
   "file_extension": ".py",
   "mimetype": "text/x-python",
   "name": "python",
   "nbconvert_exporter": "python",
   "pygments_lexer": "ipython3",
   "version": "3.11.9"
  }
 },
 "nbformat": 4,
 "nbformat_minor": 2
}
